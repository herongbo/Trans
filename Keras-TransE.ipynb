{
 "cells": [
  {
   "cell_type": "code",
   "execution_count": 1,
   "metadata": {},
   "outputs": [
    {
     "name": "stderr",
     "output_type": "stream",
     "text": [
      "Using TensorFlow backend.\n"
     ]
    }
   ],
   "source": [
    "import keras\n",
    "keras.__version__\n",
    "\n",
    "import tensorflow as tf\n",
    "import keras.backend.tensorflow_backend as KTF\n",
    "\n",
    "config = tf.ConfigProto()  \n",
    "config.gpu_options.allow_growth=True   #不全部占满显存, 按需分配\n",
    "session = tf.Session(config=config)\n",
    "\n",
    "KTF.set_session(session)"
   ]
  },
  {
   "cell_type": "markdown",
   "metadata": {},
   "source": [
    "知识嵌入的数据集"
   ]
  },
  {
   "cell_type": "markdown",
   "metadata": {},
   "source": [
    "四个数据集FB15K，FB15K-237，WN18，WN18RR，YAGO3-10\n",
    "\n",
    "FB15K数据集统计\n",
    "* 包含14951 个实体 和1345种关系\n",
    "* 训练集包含483142个三元组，验证集包含50000个三元组，测试集包含59071个三元组\n",
    "* 使用此数据时，引用其原始论文\n"
   ]
  },
  {
   "cell_type": "markdown",
   "metadata": {},
   "source": [
    "### 通过Keras实现TransE模型\n",
    "步骤：\n",
    "1. 统计一共有多少个实体\n",
    "* 将关系和属性一起训练\n",
    "* 设定嵌入维度\n",
    "* 生成等量的负采样三元组\n",
    "* 通过Embedding层进行训练\n",
    "* 保存Embedding层参数用于判断\n",
    "* 与结果对照"
   ]
  },
  {
   "cell_type": "markdown",
   "metadata": {},
   "source": [
    "读入数据，统计实体和关系的总个数"
   ]
  },
  {
   "cell_type": "code",
   "execution_count": 2,
   "metadata": {},
   "outputs": [
    {
     "name": "stdout",
     "output_type": "stream",
     "text": [
      "16296\n"
     ]
    }
   ],
   "source": [
    "f = open('链路预测数据集/FB15k/freebase_mtr100_mte100-train.txt')\n",
    "data = f.read()\n",
    "triples = data.split('\\n')\n",
    "triples = triples[:483142]\n",
    "totals = list([entity_and_relation for triple in triples for entity_and_relation in triple.split('\\t')])\n",
    "print(len(set(totals)))\n",
    "#嵌入的总数为16297"
   ]
  },
  {
   "cell_type": "code",
   "execution_count": 3,
   "metadata": {},
   "outputs": [
    {
     "name": "stdout",
     "output_type": "stream",
     "text": [
      "实体数 14951\n",
      "关系数 1345\n"
     ]
    }
   ],
   "source": [
    "# 生成头实体集合 尾实体集合 关系集合 生成负采样三元组\n",
    "head_entities = list([triple.split('\\t')[0] for triple in triples])\n",
    "relations =  list([triple.split('\\t')[1] for triple in triples])\n",
    "tail_entities =  list([triple.split('\\t')[2] for triple in triples])\n",
    "print('实体数',len(set(head_entities+tail_entities)))\n",
    "print('关系数',len(set(relations)))"
   ]
  },
  {
   "cell_type": "markdown",
   "metadata": {},
   "source": [
    "生成负采样三元组"
   ]
  },
  {
   "cell_type": "code",
   "execution_count": 4,
   "metadata": {},
   "outputs": [],
   "source": [
    "import random\n",
    "\n",
    "# 生成负采样的三元组\n",
    "invalid_head_entities = []\n",
    "invalid_relations = []\n",
    "invalid_tail_entities = []\n",
    "\n",
    "for i,relation in enumerate(relations):\n",
    "    random_int = random.randint(0,len(head_entities)-1)\n",
    "    random_int1 = random.randint(0,len(head_entities)-1)\n",
    "    \n",
    "    # 不同时替换头尾实体\n",
    "    if i%2 ==0:\n",
    "        invalid_head_entities.append(head_entities[i])\n",
    "        invalid_relations.append(relation)\n",
    "        invalid_tail_entities.append(tail_entities[random_int1])\n",
    "    else:\n",
    "        invalid_head_entities.append(head_entities[random_int])\n",
    "        invalid_relations.append(relation)\n",
    "        invalid_tail_entities.append(tail_entities[i])\n",
    "#     invalid_head_entities.append(head_entities[random_int])\n",
    "#     invalid_relations.append(relation)\n",
    "#     invalid_tail_entities.append(tail_entities[random_int1])"
   ]
  },
  {
   "cell_type": "markdown",
   "metadata": {},
   "source": [
    "实体编码"
   ]
  },
  {
   "cell_type": "code",
   "execution_count": 5,
   "metadata": {},
   "outputs": [],
   "source": [
    "# 为每个实体和关系生成数字表示\n",
    "import numpy as np\n",
    "\n",
    "# 为每个实体/关系分配倒排索引\n",
    "reverse_index = dict([key,index] for index,key in enumerate(set(totals)))\n",
    "\n",
    "#数据标签化\n",
    "\n",
    "head_entities_encode = list([reverse_index[entry] for entry in head_entities])\n",
    "relations_encode = list([reverse_index[relation] for relation in relations])\n",
    "tail_entities_encode = list([reverse_index[entry] for entry in tail_entities])\n",
    "\n",
    "invalid_head_entities_encode = list([reverse_index[entry] for entry in invalid_head_entities])\n",
    "invalid_relations_encode = list([reverse_index[relation] for relation in invalid_relations])\n",
    "invalid_tail_entities_encode = list([reverse_index[entry] for entry in invalid_tail_entities])"
   ]
  },
  {
   "cell_type": "markdown",
   "metadata": {},
   "source": [
    "模型部分"
   ]
  },
  {
   "cell_type": "code",
   "execution_count": 6,
   "metadata": {},
   "outputs": [
    {
     "name": "stdout",
     "output_type": "stream",
     "text": [
      "__________________________________________________________________________________________________\n",
      "Layer (type)                    Output Shape         Param #     Connected to                     \n",
      "==================================================================================================\n",
      "input_1 (InputLayer)            (None, 1)            0                                            \n",
      "__________________________________________________________________________________________________\n",
      "input_2 (InputLayer)            (None, 1)            0                                            \n",
      "__________________________________________________________________________________________________\n",
      "input_3 (InputLayer)            (None, 1)            0                                            \n",
      "__________________________________________________________________________________________________\n",
      "input_4 (InputLayer)            (None, 1)            0                                            \n",
      "__________________________________________________________________________________________________\n",
      "input_5 (InputLayer)            (None, 1)            0                                            \n",
      "__________________________________________________________________________________________________\n",
      "input_6 (InputLayer)            (None, 1)            0                                            \n",
      "__________________________________________________________________________________________________\n",
      "concatenate_1 (Concatenate)     (None, 6)            0           input_1[0][0]                    \n",
      "                                                                 input_2[0][0]                    \n",
      "                                                                 input_3[0][0]                    \n",
      "                                                                 input_4[0][0]                    \n",
      "                                                                 input_5[0][0]                    \n",
      "                                                                 input_6[0][0]                    \n",
      "__________________________________________________________________________________________________\n",
      "embedding_1 (Embedding)         (None, 6, 100)       1629600     concatenate_1[0][0]              \n",
      "==================================================================================================\n",
      "Total params: 1,629,600\n",
      "Trainable params: 1,629,600\n",
      "Non-trainable params: 0\n",
      "__________________________________________________________________________________________________\n"
     ]
    }
   ],
   "source": [
    "from keras import models\n",
    "from keras import layers\n",
    "from keras import optimizers\n",
    "from keras import Input\n",
    "from keras import Model\n",
    "from keras.layers import Flatten\n",
    "\n",
    "max_word = 16296\n",
    "embedding_dim = 100\n",
    "maxlen = 6\n",
    "margin = 1\n",
    "\n",
    "y_hat = list([np.zeros((6,embedding_dim)) for entry in head_entities])\n",
    "\n",
    "# Keras中的第一位代表向量\n",
    "# 一次输入两个三元组\n",
    "golden_head_input = Input(shape=(1,))\n",
    "golden_relation_input = Input(shape=(1,))\n",
    "golden_tail_input = Input(shape=(1,))\n",
    "\n",
    "invalid_head_input = Input(shape=(1,))\n",
    "invalid_relation_input = Input(shape=(1,))\n",
    "invalid_tail_input = Input(shape=(1,))\n",
    "\n",
    "# 对向量进行拼接\n",
    "input_concatenate = layers.concatenate([golden_head_input,golden_relation_input,golden_tail_input,\n",
    "                                         invalid_head_input,invalid_relation_input,invalid_tail_input],axis=1)\n",
    "\n",
    "# 一次输入6个嵌入\n",
    "layer_embedding = layers.Embedding(max_word,embedding_dim,input_length = maxlen)(input_concatenate)\n",
    "# layer_flatten = layers.Flatten()(layer_embedding)\n",
    "layer_flatten = layer_embedding\n",
    "\n",
    "# 输出\n",
    "keras_model = Model([golden_head_input,golden_relation_input,golden_tail_input,\n",
    "                     invalid_head_input,invalid_relation_input,invalid_tail_input],layer_flatten)\n",
    "keras_model.summary()"
   ]
  },
  {
   "cell_type": "code",
   "execution_count": 7,
   "metadata": {},
   "outputs": [],
   "source": [
    "import keras.backend.tensorflow_backend as K\n",
    "import keras\n",
    "\n",
    "def keras_custom_loss_function(y_true,y_pred):\n",
    "    g_head_em = y_pred[0]\n",
    "    g_rel_em = y_pred[1]\n",
    "    g_tail_em = y_pred[2]\n",
    "    i_head_em = y_pred[3]\n",
    "    i_rel_em = y_pred[4]\n",
    "    i_tail_em = y_pred[5]\n",
    "    \n",
    "#     return K.abs(margin + K.square(g_head_em+g_rel_em-g_tail_em) - K.square(i_head_em+i_rel_em+i_tail_em) + y_true)\n",
    "    golden_energy =  K.sum(K.abs(g_head_em+g_rel_em-g_tail_em),axis=1)\n",
    "    invalid_energy = K.sum(K.abs(i_head_em+i_rel_em+i_tail_em),axis=1)\n",
    "    \n",
    "    return K.sum(K.relu(margin + golden_energy - invalid_energy))\n",
    "\n",
    "\n",
    "optimizer = keras.optimizers.RMSprop(0.1)\n",
    "\n",
    "# keras_model.compile(loss = keras_custom_loss_function,optimizer = optimizer)\n",
    "keras_model.compile(loss = keras_custom_loss_function,optimizer='rmsprop')"
   ]
  },
  {
   "cell_type": "code",
   "execution_count": null,
   "metadata": {},
   "outputs": [
    {
     "name": "stdout",
     "output_type": "stream",
     "text": [
      "483142\n",
      "483142\n"
     ]
    }
   ],
   "source": [
    "print(len(head_entities_encode))\n",
    "print(len(tail_entities_encode))"
   ]
  },
  {
   "cell_type": "code",
   "execution_count": null,
   "metadata": {
    "scrolled": true
   },
   "outputs": [
    {
     "name": "stdout",
     "output_type": "stream",
     "text": [
      "Epoch 1/200\n",
      "483142/483142 [==============================] - 7s 15us/step - loss: 5.2543\n",
      "Epoch 2/200\n",
      "483142/483142 [==============================] - 7s 15us/step - loss: 4.3967\n",
      "Epoch 3/200\n",
      "483142/483142 [==============================] - 7s 15us/step - loss: 4.2375\n",
      "Epoch 4/200\n",
      "483142/483142 [==============================] - 7s 15us/step - loss: 4.0056\n",
      "Epoch 5/200\n",
      "483142/483142 [==============================] - 7s 15us/step - loss: 3.9630\n",
      "Epoch 6/200\n",
      "483142/483142 [==============================] - 7s 14us/step - loss: 3.8512\n",
      "Epoch 7/200\n",
      "483142/483142 [==============================] - 7s 15us/step - loss: 3.6495\n",
      "Epoch 8/200\n",
      "483142/483142 [==============================] - 7s 15us/step - loss: 3.4850\n",
      "Epoch 9/200\n",
      "483142/483142 [==============================] - 7s 15us/step - loss: 3.1903\n",
      "Epoch 10/200\n",
      "483142/483142 [==============================] - 7s 15us/step - loss: 2.9969\n",
      "Epoch 11/200\n",
      "483142/483142 [==============================] - 7s 15us/step - loss: 2.8617\n",
      "Epoch 12/200\n",
      "483142/483142 [==============================] - 7s 15us/step - loss: 2.6574\n",
      "Epoch 13/200\n",
      "483142/483142 [==============================] - 7s 15us/step - loss: 2.5020\n",
      "Epoch 14/200\n",
      "483142/483142 [==============================] - 7s 15us/step - loss: 2.2911\n",
      "Epoch 15/200\n",
      "483142/483142 [==============================] - 7s 15us/step - loss: 2.0556\n",
      "Epoch 16/200\n",
      "483142/483142 [==============================] - 7s 15us/step - loss: 1.8427\n",
      "Epoch 17/200\n",
      "483142/483142 [==============================] - 7s 15us/step - loss: 1.6403\n",
      "Epoch 18/200\n",
      "483142/483142 [==============================] - 7s 15us/step - loss: 1.5322\n",
      "Epoch 19/200\n",
      "483142/483142 [==============================] - 7s 15us/step - loss: 1.4098\n",
      "Epoch 20/200\n",
      "483142/483142 [==============================] - 7s 15us/step - loss: 1.2829\n",
      "Epoch 21/200\n",
      "483142/483142 [==============================] - 7s 15us/step - loss: 1.1525\n",
      "Epoch 22/200\n",
      "483142/483142 [==============================] - 7s 15us/step - loss: 1.0370\n",
      "Epoch 23/200\n",
      "483142/483142 [==============================] - 7s 15us/step - loss: 0.9382\n",
      "Epoch 24/200\n",
      "483142/483142 [==============================] - 7s 15us/step - loss: 0.8840\n",
      "Epoch 25/200\n",
      "483142/483142 [==============================] - 7s 15us/step - loss: 0.8065\n",
      "Epoch 26/200\n",
      "483142/483142 [==============================] - 7s 15us/step - loss: 0.7324\n",
      "Epoch 27/200\n",
      "483142/483142 [==============================] - 7s 15us/step - loss: 0.6274\n",
      "Epoch 28/200\n",
      "483142/483142 [==============================] - 7s 15us/step - loss: 0.6168\n",
      "Epoch 29/200\n",
      "483142/483142 [==============================] - 7s 15us/step - loss: 0.5458\n",
      "Epoch 30/200\n",
      "483142/483142 [==============================] - 7s 15us/step - loss: 0.5340\n",
      "Epoch 31/200\n",
      "483142/483142 [==============================] - 7s 15us/step - loss: 0.4747\n",
      "Epoch 32/200\n",
      "483142/483142 [==============================] - 7s 15us/step - loss: 0.4248\n",
      "Epoch 33/200\n",
      "483142/483142 [==============================] - 7s 15us/step - loss: 0.3930\n",
      "Epoch 34/200\n",
      "483142/483142 [==============================] - 7s 15us/step - loss: 0.3703\n",
      "Epoch 35/200\n",
      "483142/483142 [==============================] - 7s 15us/step - loss: 0.3545\n",
      "Epoch 36/200\n",
      "483142/483142 [==============================] - 7s 15us/step - loss: 0.3040\n",
      "Epoch 37/200\n",
      "483142/483142 [==============================] - 7s 15us/step - loss: 0.3250\n",
      "Epoch 38/200\n",
      "483142/483142 [==============================] - 7s 15us/step - loss: 0.2974\n",
      "Epoch 39/200\n",
      "483142/483142 [==============================] - 7s 15us/step - loss: 0.2769\n",
      "Epoch 40/200\n",
      "483142/483142 [==============================] - 7s 14us/step - loss: 0.2186\n",
      "Epoch 41/200\n",
      "483142/483142 [==============================] - 7s 14us/step - loss: 0.2207\n",
      "Epoch 42/200\n",
      "483142/483142 [==============================] - 7s 15us/step - loss: 0.2265\n",
      "Epoch 43/200\n",
      "483142/483142 [==============================] - 8s 17us/step - loss: 0.2048\n",
      "Epoch 44/200\n",
      "483142/483142 [==============================] - 7s 15us/step - loss: 0.1765\n",
      "Epoch 45/200\n",
      "483142/483142 [==============================] - 7s 14us/step - loss: 0.1673\n",
      "Epoch 46/200\n",
      "483142/483142 [==============================] - 6s 13us/step - loss: 0.1577\n",
      "Epoch 47/200\n",
      "483142/483142 [==============================] - 7s 15us/step - loss: 0.1523\n",
      "Epoch 48/200\n",
      "483142/483142 [==============================] - 7s 15us/step - loss: 0.1385\n",
      "Epoch 49/200\n",
      "483142/483142 [==============================] - 7s 15us/step - loss: 0.1454\n",
      "Epoch 50/200\n",
      "483142/483142 [==============================] - 7s 15us/step - loss: 0.1577\n",
      "Epoch 51/200\n",
      "483142/483142 [==============================] - 7s 15us/step - loss: 0.1356\n",
      "Epoch 52/200\n",
      "483142/483142 [==============================] - 7s 13us/step - loss: 0.1259\n",
      "Epoch 53/200\n",
      "483142/483142 [==============================] - 7s 14us/step - loss: 0.1197\n",
      "Epoch 54/200\n",
      "483142/483142 [==============================] - 7s 14us/step - loss: 0.1093\n",
      "Epoch 55/200\n",
      "483142/483142 [==============================] - 7s 15us/step - loss: 0.1248\n",
      "Epoch 56/200\n",
      "483142/483142 [==============================] - 7s 15us/step - loss: 0.0980\n",
      "Epoch 57/200\n",
      "483142/483142 [==============================] - 8s 16us/step - loss: 0.1039\n",
      "Epoch 58/200\n",
      "483142/483142 [==============================] - 8s 16us/step - loss: 0.0798\n",
      "Epoch 59/200\n",
      "292467/483142 [=================>............] - ETA: 3s - loss: 0.0992"
     ]
    }
   ],
   "source": [
    "keras_model.fit([head_entities_encode, relations_encode,tail_entities_encode,\n",
    "                invalid_head_entities_encode,invalid_relations_encode,invalid_tail_entities_encode], [y_hat],\n",
    "          epochs=200, batch_size=399)\n",
    "\n",
    "keras_model.save(\"TransE.h5\")"
   ]
  },
  {
   "cell_type": "code",
   "execution_count": null,
   "metadata": {},
   "outputs": [],
   "source": [
    "from keras.models import load_model\n",
    "\n",
    "# 所有实体　关系的编码\n",
    "total_encode = [reverse_index[data] for data in totals]\n",
    "\n",
    "# 所有实体　关系的编码\n",
    "entity_code = list([reverse_index[entity] for entity in totals])\n",
    "\n",
    "keras_model = load_model(\"TransE.h5\",custom_objects={'keras_custom_loss_function':keras_custom_loss_function\n",
    "})"
   ]
  },
  {
   "cell_type": "code",
   "execution_count": null,
   "metadata": {},
   "outputs": [],
   "source": [
    "print(len(list(set(totals))))"
   ]
  },
  {
   "cell_type": "code",
   "execution_count": null,
   "metadata": {},
   "outputs": [],
   "source": [
    "entity_set = list(set(totals))\n",
    "\n",
    "entity_set_code =  list([reverse_index[entity] for entity in entity_set])\n",
    "\n",
    "entity_embedding = keras_model.predict([entity_set_code,entity_set_code,entity_set_code,\n",
    "                                        entity_set_code,entity_set_code,entity_set_code])[:,0]\n",
    "\n",
    "#　根据uri　寻找embedding\n",
    "TransE_index = dict(zip(entity_set,entity_embedding))"
   ]
  },
  {
   "cell_type": "code",
   "execution_count": null,
   "metadata": {},
   "outputs": [],
   "source": [
    "# Transe序列化\n",
    "import pickle\n",
    "\n",
    "with open('transe.data', mode=\"wb+\") as f:\n",
    "    pickle.dump(TransE_index,f)"
   ]
  },
  {
   "cell_type": "code",
   "execution_count": null,
   "metadata": {},
   "outputs": [],
   "source": [
    "# TransE_index反序列化\n",
    "\n",
    "with open('transe.data','rb') as f:\n",
    "    data = pickle.load(f)"
   ]
  },
  {
   "cell_type": "code",
   "execution_count": null,
   "metadata": {},
   "outputs": [],
   "source": [
    "TransE_embeddings = keras_model.predict([entity_code,entity_code,entity_code,\n",
    "                                        entity_code,entity_code,entity_code])[:,0]\n",
    "# TransE_embeddings = keras_model.predict([entity_code,entity_code,entity_code,\n",
    "#                                         entity_code,entity_code,entity_code])\n",
    "\n",
    "# print(list(TransE_embeddings)[10])"
   ]
  },
  {
   "cell_type": "code",
   "execution_count": null,
   "metadata": {},
   "outputs": [],
   "source": [
    "print(list(TransE_index)[0])\n",
    "print(list(TransE_embeddings)[0])\n",
    "print(TransE_index[list(TransE_index)[0]])"
   ]
  },
  {
   "cell_type": "markdown",
   "metadata": {},
   "source": [
    "链接预测评测代码"
   ]
  },
  {
   "cell_type": "code",
   "execution_count": null,
   "metadata": {},
   "outputs": [],
   "source": [
    "# 读入训练数据\n",
    "# 先用hit@10标准测试一下\n",
    "valid_file = open('链路预测数据集/FB15k/freebase_mtr100_mte100-valid.txt')\n",
    "valid_data = valid_file.read()\n",
    "valid_triples = valid_data.split('\\n')[:50000]\n",
    "\n",
    "#生成验证集实体和关系集合\n",
    "valid_head_entities = head_entities = list([triple.split('\\t')[0] for triple in valid_triples])\n",
    "valid_relations =  list([triple.split('\\t')[1] for triple in valid_triples])\n",
    "valid_tail_entities =  list([triple.split('\\t')[2] for triple in valid_triples])"
   ]
  },
  {
   "cell_type": "code",
   "execution_count": null,
   "metadata": {},
   "outputs": [],
   "source": [
    "# 寻找最近的值\n",
    "import numpy as np\n",
    "\n",
    "def find_nearest(array, value):\n",
    "\n",
    "    array = np.asarray(array)\n",
    "\n",
    "    idx = (np.abs(array - value)).argmin()\n",
    "\n",
    "    return array[idx]"
   ]
  },
  {
   "cell_type": "code",
   "execution_count": null,
   "metadata": {},
   "outputs": [],
   "source": [
    "import operator\n",
    "\n",
    "def takeFirst(elem):\n",
    "    return elem[0]\n",
    "\n",
    "# 生成要预测的实体\n",
    "# 对每个实体进行预测，这里应该封装成一个函数\n",
    "for head,relation,tail in zip(valid_head_entities[:10],valid_relations[:10],valid_tail_entities[:10]):\n",
    "    #　头实体嵌入\n",
    "    valid_head_embedding = TransE_index[head]\n",
    "    #　关系的嵌入\n",
    "    valid_relation_embedding = TransE_index[relation]\n",
    "    #　头尾实体加和\n",
    "    head_and_relation = valid_head_embedding + valid_relation_embedding\n",
    "    # 预测一个尾实体\n",
    "    predict_tail_embedding = head_and_relation\n",
    "    \n",
    "    #　与所有的实体计算距离\n",
    "    distance_list = []\n",
    "    # 遍历TransE嵌入中的所有实体\n",
    "    for index,entity in enumerate(list(TransE_index)):\n",
    "        \n",
    "        #　与TransE中的所有实体进行比较\n",
    "        embedding = TransE_index[entity]\n",
    "        \n",
    "        # 二阶距离\n",
    "        distance = np.linalg.norm(predict_tail_embedding - embedding)\n",
    "        distance_list.append([distance,entity])\n",
    "\n",
    "        # 对所有距离进行排序\n",
    "        distance_list.sort(key=takeFirst)\n",
    "\n",
    "    print(distance_list[0][1])\n",
    "\n",
    "    # 打印前10个预测结果    \n",
    "    print('预测',distance_list[:10])\n",
    "    print('标签',tail)\n",
    "    if tail in distance_list[:5000]:\n",
    "        print('hit@5000yes')\n",
    "    else:\n",
    "        print('hit@5000no')\n",
    "        \n",
    "    if tail in distance_list[:10]:\n",
    "        print('hit@10yes')\n",
    "    else:\n",
    "        print('hit@10no')\n",
    "        print('\\n')\n"
   ]
  },
  {
   "cell_type": "code",
   "execution_count": null,
   "metadata": {},
   "outputs": [],
   "source": [
    " print(list(TransE_index)[:10])\n",
    "for key in list(TransE_index)[:10]:\n",
    "    print(TransE_index[key])"
   ]
  }
 ],
 "metadata": {
  "kernelspec": {
   "display_name": "deeplearning",
   "language": "python",
   "name": "deeplearning"
  },
  "language_info": {
   "codemirror_mode": {
    "name": "ipython",
    "version": 3
   },
   "file_extension": ".py",
   "mimetype": "text/x-python",
   "name": "python",
   "nbconvert_exporter": "python",
   "pygments_lexer": "ipython3",
   "version": "3.6.2"
  }
 },
 "nbformat": 4,
 "nbformat_minor": 2
}
